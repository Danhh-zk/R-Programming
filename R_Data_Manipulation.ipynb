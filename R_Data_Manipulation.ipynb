{
  "nbformat": 4,
  "nbformat_minor": 0,
  "metadata": {
    "colab": {
      "provenance": [],
      "authorship_tag": "ABX9TyPM4F4D/2H/9rzutxQnX8x9",
      "include_colab_link": true
    },
    "kernelspec": {
      "name": "ir",
      "display_name": "R"
    },
    "language_info": {
      "name": "R"
    }
  },
  "cells": [
    {
      "cell_type": "markdown",
      "metadata": {
        "id": "view-in-github",
        "colab_type": "text"
      },
      "source": [
        "<a href=\"https://colab.research.google.com/github/Danhh-zk/R-Programming/blob/main/R_Data_Manipulation.ipynb\" target=\"_parent\"><img src=\"https://colab.research.google.com/assets/colab-badge.svg\" alt=\"Open In Colab\"/></a>"
      ]
    },
    {
      "cell_type": "code",
      "source": [],
      "metadata": {
        "id": "bBYhyDk44Qy5"
      },
      "execution_count": null,
      "outputs": []
    },
    {
      "cell_type": "code",
      "execution_count": null,
      "metadata": {
        "id": "kRR1JYv0r-np"
      },
      "outputs": [],
      "source": [
        "unzip(\"/content/cc2be5acb376b8a0beef2bcc1734c000-716c6f751d416536b463c7378542eb85b5800f56.zip\")"
      ]
    },
    {
      "cell_type": "code",
      "source": [
        "#read_csv file make data frame\n",
        "\n",
        "df <- read.csv(file = \"/content/cc2be5acb376b8a0beef2bcc1734c000-716c6f751d416536b463c7378542eb85b5800f56/airtravel.csv\")\n"
      ],
      "metadata": {
        "id": "kozrRQ7r4au2"
      },
      "execution_count": null,
      "outputs": []
    },
    {
      "cell_type": "code",
      "source": [
        "print(df)"
      ],
      "metadata": {
        "colab": {
          "base_uri": "https://localhost:8080/"
        },
        "id": "TBXaabfM4p2-",
        "outputId": "c9c52f12-db8d-47f5-c8b0-69a08ee6a264"
      },
      "execution_count": null,
      "outputs": [
        {
          "output_type": "stream",
          "name": "stdout",
          "text": [
            "   Month.1958\n",
            "1    JAN\\t340\n",
            "2    FEB\\t318\n",
            "3    MAR\\t362\n",
            "4    APR\\t348\n",
            "5    MAY\\t363\n",
            "6    JUN\\t435\n",
            "7    JUL\\t491\n",
            "8    AUG\\t505\n",
            "9    SEP\\t404\n",
            "10   OCT\\t359\n",
            "11   NOV\\t310\n",
            "12   DEC\\t337\n"
          ]
        }
      ]
    },
    {
      "cell_type": "code",
      "source": [
        "\n",
        "# print total number of columns\n",
        "cat(\"Total Columns:\", ncol(df))\n",
        "\n",
        "# print total number of rows\n",
        "cat(\" Total Rows:\", nrow(df))"
      ],
      "metadata": {
        "colab": {
          "base_uri": "https://localhost:8080/"
        },
        "id": "Uui8lWdu42WP",
        "outputId": "a1985e68-408c-4522-8526-2f8f99f0fc0c"
      },
      "execution_count": null,
      "outputs": [
        {
          "output_type": "stream",
          "name": "stdout",
          "text": [
            "Total Columns: 1 Total Rows: 12"
          ]
        }
      ]
    },
    {
      "cell_type": "code",
      "source": [
        "sub_data <- subset(df, 1958 > 400)\n",
        "\n",
        "print(sub_data)"
      ],
      "metadata": {
        "colab": {
          "base_uri": "https://localhost:8080/"
        },
        "id": "BEio-iSza1Jl",
        "outputId": "930b00ef-cf1d-4ce7-95f0-9961447c9e79"
      },
      "execution_count": null,
      "outputs": [
        {
          "output_type": "stream",
          "name": "stdout",
          "text": [
            "   Month.1958\n",
            "1    JAN\\t340\n",
            "2    FEB\\t318\n",
            "3    MAR\\t362\n",
            "4    APR\\t348\n",
            "5    MAY\\t363\n",
            "6    JUN\\t435\n",
            "7    JUL\\t491\n",
            "8    AUG\\t505\n",
            "9    SEP\\t404\n",
            "10   OCT\\t359\n",
            "11   NOV\\t310\n",
            "12   DEC\\t337\n"
          ]
        }
      ]
    },
    {
      "cell_type": "code",
      "source": [
        "# Create a data frame\n",
        "dataframe1 <- data.frame (\n",
        "  Name = c(\"Juan\", \"Alcaraz\", \"Simantha\"),\n",
        "  Age = c(22, 15, 19),\n",
        "  Vote = c(TRUE, FALSE, TRUE))\n",
        "\n",
        "# write dataframe1 into file1 csv file\n",
        "write.csv(dataframe1, \"file1.csv\")"
      ],
      "metadata": {
        "id": "xbohGFa3bEIP"
      },
      "execution_count": null,
      "outputs": []
    },
    {
      "cell_type": "code",
      "source": [
        "write.csv(dataframe1, \"file1.csv\",\n",
        "  quote = FALSE\n",
        ")"
      ],
      "metadata": {
        "id": "_T0GNT8WcLfb"
      },
      "execution_count": null,
      "outputs": []
    },
    {
      "cell_type": "code",
      "source": [
        "# install xlsx package\n",
        "install.package(\"xlsx\")\n",
        "\n",
        "# load xlsx file\n",
        "library(\"xlsx\")\n",
        "\n",
        "# read studentinfo.xlsx file from our current directory\n",
        "read_data <- read.xlsx(\"/content/Students database.xlsx\", sheetIndex = 1)\n",
        "\n",
        "# display xlsx file\n",
        "print(read_data)"
      ],
      "metadata": {
        "id": "0X3SPXC7eULn"
      },
      "execution_count": null,
      "outputs": []
    },
    {
      "cell_type": "code",
      "source": [
        "# install xlsx package\n",
        "install.package(\"xlsx\")\n",
        "\n",
        "# load xlsx file\n",
        "library(\"xlsx\")\n",
        "\n",
        "# read first five rows of xlsx file\n",
        "read_data <- read.xlsx(\"studentinfo.xlsx\",\n",
        "  sheetIndex = 1,\n",
        "  rowIndex = 1:5\n",
        ")\n",
        "\n",
        "# display xlsx file\n",
        "print(read_data)"
      ],
      "metadata": {
        "id": "f8xOdatqeUz2"
      },
      "execution_count": null,
      "outputs": []
    },
    {
      "cell_type": "code",
      "source": [
        "# install xlsx package\n",
        "install.package(\"xlsx\")\n",
        "\n",
        "# load xlsx file\n",
        "library(\"xlsx\")\n",
        "\n",
        "# read first three columns of xlsx file\n",
        "read_data <- read.xlsx(\"studentinfo.xlsx\",\n",
        "  sheetIndex = 1,\n",
        "  colIndex = 1:3\n",
        ")\n",
        "\n",
        "# display xlsx file\n",
        "print(read_data)"
      ],
      "metadata": {
        "id": "MPvJLAKJesA_"
      },
      "execution_count": null,
      "outputs": []
    },
    {
      "cell_type": "code",
      "source": [
        " create a data frame\n",
        "dataframe1 <- data.frame (\n",
        "  Name = c(\"Juan\", \"Alcaraz\", \"Simantha\"),\n",
        "  Age = c(22, 15, 19),\n",
        "  Vote = c(TRUE, FALSE, TRUE))\n",
        "\n",
        "# write dataframe1 into file1 xlsx file\n",
        "write.xlsx(dataframe1, \"file1.xlsx\")"
      ],
      "metadata": {
        "id": "CZII4TnmfHAs"
      },
      "execution_count": null,
      "outputs": []
    },
    {
      "cell_type": "code",
      "source": [
        "# name current worksheet\n",
        "write.xlsx(dataframe1, \"file1.xlsx\",\n",
        "  sheetName = \"Voting Eligibility\"\n",
        ")"
      ],
      "metadata": {
        "id": "3G7UD6-bfHUd"
      },
      "execution_count": null,
      "outputs": []
    },
    {
      "cell_type": "code",
      "source": [
        "# display airquality dataset\n",
        "print(airquality)"
      ],
      "metadata": {
        "colab": {
          "base_uri": "https://localhost:8080/"
        },
        "id": "3c7co_AQfa_h",
        "outputId": "b69d6695-bb2e-4bee-a7dd-838d6d0bb94b"
      },
      "execution_count": null,
      "outputs": [
        {
          "output_type": "stream",
          "name": "stdout",
          "text": [
            "    Ozone Solar.R Wind Temp Month Day\n",
            "1      41     190  7.4   67     5   1\n",
            "2      36     118  8.0   72     5   2\n",
            "3      12     149 12.6   74     5   3\n",
            "4      18     313 11.5   62     5   4\n",
            "5      NA      NA 14.3   56     5   5\n",
            "6      28      NA 14.9   66     5   6\n",
            "7      23     299  8.6   65     5   7\n",
            "8      19      99 13.8   59     5   8\n",
            "9       8      19 20.1   61     5   9\n",
            "10     NA     194  8.6   69     5  10\n",
            "11      7      NA  6.9   74     5  11\n",
            "12     16     256  9.7   69     5  12\n",
            "13     11     290  9.2   66     5  13\n",
            "14     14     274 10.9   68     5  14\n",
            "15     18      65 13.2   58     5  15\n",
            "16     14     334 11.5   64     5  16\n",
            "17     34     307 12.0   66     5  17\n",
            "18      6      78 18.4   57     5  18\n",
            "19     30     322 11.5   68     5  19\n",
            "20     11      44  9.7   62     5  20\n",
            "21      1       8  9.7   59     5  21\n",
            "22     11     320 16.6   73     5  22\n",
            "23      4      25  9.7   61     5  23\n",
            "24     32      92 12.0   61     5  24\n",
            "25     NA      66 16.6   57     5  25\n",
            "26     NA     266 14.9   58     5  26\n",
            "27     NA      NA  8.0   57     5  27\n",
            "28     23      13 12.0   67     5  28\n",
            "29     45     252 14.9   81     5  29\n",
            "30    115     223  5.7   79     5  30\n",
            "31     37     279  7.4   76     5  31\n",
            "32     NA     286  8.6   78     6   1\n",
            "33     NA     287  9.7   74     6   2\n",
            "34     NA     242 16.1   67     6   3\n",
            "35     NA     186  9.2   84     6   4\n",
            "36     NA     220  8.6   85     6   5\n",
            "37     NA     264 14.3   79     6   6\n",
            "38     29     127  9.7   82     6   7\n",
            "39     NA     273  6.9   87     6   8\n",
            "40     71     291 13.8   90     6   9\n",
            "41     39     323 11.5   87     6  10\n",
            "42     NA     259 10.9   93     6  11\n",
            "43     NA     250  9.2   92     6  12\n",
            "44     23     148  8.0   82     6  13\n",
            "45     NA     332 13.8   80     6  14\n",
            "46     NA     322 11.5   79     6  15\n",
            "47     21     191 14.9   77     6  16\n",
            "48     37     284 20.7   72     6  17\n",
            "49     20      37  9.2   65     6  18\n",
            "50     12     120 11.5   73     6  19\n",
            "51     13     137 10.3   76     6  20\n",
            "52     NA     150  6.3   77     6  21\n",
            "53     NA      59  1.7   76     6  22\n",
            "54     NA      91  4.6   76     6  23\n",
            "55     NA     250  6.3   76     6  24\n",
            "56     NA     135  8.0   75     6  25\n",
            "57     NA     127  8.0   78     6  26\n",
            "58     NA      47 10.3   73     6  27\n",
            "59     NA      98 11.5   80     6  28\n",
            "60     NA      31 14.9   77     6  29\n",
            "61     NA     138  8.0   83     6  30\n",
            "62    135     269  4.1   84     7   1\n",
            "63     49     248  9.2   85     7   2\n",
            "64     32     236  9.2   81     7   3\n",
            "65     NA     101 10.9   84     7   4\n",
            "66     64     175  4.6   83     7   5\n",
            "67     40     314 10.9   83     7   6\n",
            "68     77     276  5.1   88     7   7\n",
            "69     97     267  6.3   92     7   8\n",
            "70     97     272  5.7   92     7   9\n",
            "71     85     175  7.4   89     7  10\n",
            "72     NA     139  8.6   82     7  11\n",
            "73     10     264 14.3   73     7  12\n",
            "74     27     175 14.9   81     7  13\n",
            "75     NA     291 14.9   91     7  14\n",
            "76      7      48 14.3   80     7  15\n",
            "77     48     260  6.9   81     7  16\n",
            "78     35     274 10.3   82     7  17\n",
            "79     61     285  6.3   84     7  18\n",
            "80     79     187  5.1   87     7  19\n",
            "81     63     220 11.5   85     7  20\n",
            "82     16       7  6.9   74     7  21\n",
            "83     NA     258  9.7   81     7  22\n",
            "84     NA     295 11.5   82     7  23\n",
            "85     80     294  8.6   86     7  24\n",
            "86    108     223  8.0   85     7  25\n",
            "87     20      81  8.6   82     7  26\n",
            "88     52      82 12.0   86     7  27\n",
            "89     82     213  7.4   88     7  28\n",
            "90     50     275  7.4   86     7  29\n",
            "91     64     253  7.4   83     7  30\n",
            "92     59     254  9.2   81     7  31\n",
            "93     39      83  6.9   81     8   1\n",
            "94      9      24 13.8   81     8   2\n",
            "95     16      77  7.4   82     8   3\n",
            "96     78      NA  6.9   86     8   4\n",
            "97     35      NA  7.4   85     8   5\n",
            "98     66      NA  4.6   87     8   6\n",
            "99    122     255  4.0   89     8   7\n",
            "100    89     229 10.3   90     8   8\n",
            "101   110     207  8.0   90     8   9\n",
            "102    NA     222  8.6   92     8  10\n",
            "103    NA     137 11.5   86     8  11\n",
            "104    44     192 11.5   86     8  12\n",
            "105    28     273 11.5   82     8  13\n",
            "106    65     157  9.7   80     8  14\n",
            "107    NA      64 11.5   79     8  15\n",
            "108    22      71 10.3   77     8  16\n",
            "109    59      51  6.3   79     8  17\n",
            "110    23     115  7.4   76     8  18\n",
            "111    31     244 10.9   78     8  19\n",
            "112    44     190 10.3   78     8  20\n",
            "113    21     259 15.5   77     8  21\n",
            "114     9      36 14.3   72     8  22\n",
            "115    NA     255 12.6   75     8  23\n",
            "116    45     212  9.7   79     8  24\n",
            "117   168     238  3.4   81     8  25\n",
            "118    73     215  8.0   86     8  26\n",
            "119    NA     153  5.7   88     8  27\n",
            "120    76     203  9.7   97     8  28\n",
            "121   118     225  2.3   94     8  29\n",
            "122    84     237  6.3   96     8  30\n",
            "123    85     188  6.3   94     8  31\n",
            "124    96     167  6.9   91     9   1\n",
            "125    78     197  5.1   92     9   2\n",
            "126    73     183  2.8   93     9   3\n",
            "127    91     189  4.6   93     9   4\n",
            "128    47      95  7.4   87     9   5\n",
            "129    32      92 15.5   84     9   6\n",
            "130    20     252 10.9   80     9   7\n",
            "131    23     220 10.3   78     9   8\n",
            "132    21     230 10.9   75     9   9\n",
            "133    24     259  9.7   73     9  10\n",
            "134    44     236 14.9   81     9  11\n",
            "135    21     259 15.5   76     9  12\n",
            "136    28     238  6.3   77     9  13\n",
            "137     9      24 10.9   71     9  14\n",
            "138    13     112 11.5   71     9  15\n",
            "139    46     237  6.9   78     9  16\n",
            "140    18     224 13.8   67     9  17\n",
            "141    13      27 10.3   76     9  18\n",
            "142    24     238 10.3   68     9  19\n",
            "143    16     201  8.0   82     9  20\n",
            "144    13     238 12.6   64     9  21\n",
            "145    23      14  9.2   71     9  22\n",
            "146    36     139 10.3   81     9  23\n",
            "147     7      49 10.3   69     9  24\n",
            "148    14      20 16.6   63     9  25\n",
            "149    30     193  6.9   70     9  26\n",
            "150    NA     145 13.2   77     9  27\n",
            "151    14     191 14.3   75     9  28\n",
            "152    18     131  8.0   76     9  29\n",
            "153    20     223 11.5   68     9  30\n"
          ]
        }
      ]
    },
    {
      "cell_type": "code",
      "source": [
        "# use dim() to get dimension of dataset\n",
        "cat(\"Dimension:\",dim(airquality))\n",
        "\n",
        "# use nrow() to get number of rows\n",
        "cat(\"\\nRow:\",nrow(airquality))\n",
        "\n",
        "# use ncol() to get number of columns\n",
        "cat(\"\\nColumn:\",ncol(airquality))\n",
        "\n",
        "# use names() to get name of variable of dataset\n",
        "cat(\"\\nName of Variables:\",names(airquality))"
      ],
      "metadata": {
        "colab": {
          "base_uri": "https://localhost:8080/"
        },
        "id": "2L7oCoBhfc7s",
        "outputId": "63ef3463-14e1-4fea-b261-fd7be18d3570"
      },
      "execution_count": null,
      "outputs": [
        {
          "output_type": "stream",
          "name": "stdout",
          "text": [
            "Dimension: 153 6\n",
            "Row: 153\n",
            "Column: 6\n",
            "Name of Variables: Ozone Solar.R Wind Temp Month Day"
          ]
        }
      ]
    },
    {
      "cell_type": "code",
      "source": [
        "# sort values of Temp variable\n",
        "sort(airquality$Temp)"
      ],
      "metadata": {
        "colab": {
          "base_uri": "https://localhost:8080/",
          "height": 104
        },
        "id": "zjMrvST5f5c6",
        "outputId": "8d86a9c5-e8c7-4f4a-8c30-09ed4e4e81b0"
      },
      "execution_count": null,
      "outputs": [
        {
          "output_type": "display_data",
          "data": {
            "text/html": [
              "<style>\n",
              ".list-inline {list-style: none; margin:0; padding: 0}\n",
              ".list-inline>li {display: inline-block}\n",
              ".list-inline>li:not(:last-child)::after {content: \"\\00b7\"; padding: 0 .5ex}\n",
              "</style>\n",
              "<ol class=list-inline><li>56</li><li>57</li><li>57</li><li>57</li><li>58</li><li>58</li><li>59</li><li>59</li><li>61</li><li>61</li><li>61</li><li>62</li><li>62</li><li>63</li><li>64</li><li>64</li><li>65</li><li>65</li><li>66</li><li>66</li><li>66</li><li>67</li><li>67</li><li>67</li><li>67</li><li>68</li><li>68</li><li>68</li><li>68</li><li>69</li><li>69</li><li>69</li><li>70</li><li>71</li><li>71</li><li>71</li><li>72</li><li>72</li><li>72</li><li>73</li><li>73</li><li>73</li><li>73</li><li>73</li><li>74</li><li>74</li><li>74</li><li>74</li><li>75</li><li>75</li><li>75</li><li>75</li><li>76</li><li>76</li><li>76</li><li>76</li><li>76</li><li>76</li><li>76</li><li>76</li><li>76</li><li>77</li><li>77</li><li>77</li><li>77</li><li>77</li><li>77</li><li>77</li><li>78</li><li>78</li><li>78</li><li>78</li><li>78</li><li>78</li><li>79</li><li>79</li><li>79</li><li>79</li><li>79</li><li>79</li><li>80</li><li>80</li><li>80</li><li>80</li><li>80</li><li>81</li><li>81</li><li>81</li><li>81</li><li>81</li><li>81</li><li>81</li><li>81</li><li>81</li><li>81</li><li>81</li><li>82</li><li>82</li><li>82</li><li>82</li><li>82</li><li>82</li><li>82</li><li>82</li><li>82</li><li>83</li><li>83</li><li>83</li><li>83</li><li>84</li><li>84</li><li>84</li><li>84</li><li>84</li><li>85</li><li>85</li><li>85</li><li>85</li><li>85</li><li>86</li><li>86</li><li>86</li><li>86</li><li>86</li><li>86</li><li>86</li><li>87</li><li>87</li><li>87</li><li>87</li><li>87</li><li>88</li><li>88</li><li>88</li><li>89</li><li>89</li><li>90</li><li>90</li><li>90</li><li>91</li><li>91</li><li>92</li><li>92</li><li>92</li><li>92</li><li>92</li><li>93</li><li>93</li><li>93</li><li>94</li><li>94</li><li>96</li><li>97</li></ol>\n"
            ],
            "text/markdown": "1. 56\n2. 57\n3. 57\n4. 57\n5. 58\n6. 58\n7. 59\n8. 59\n9. 61\n10. 61\n11. 61\n12. 62\n13. 62\n14. 63\n15. 64\n16. 64\n17. 65\n18. 65\n19. 66\n20. 66\n21. 66\n22. 67\n23. 67\n24. 67\n25. 67\n26. 68\n27. 68\n28. 68\n29. 68\n30. 69\n31. 69\n32. 69\n33. 70\n34. 71\n35. 71\n36. 71\n37. 72\n38. 72\n39. 72\n40. 73\n41. 73\n42. 73\n43. 73\n44. 73\n45. 74\n46. 74\n47. 74\n48. 74\n49. 75\n50. 75\n51. 75\n52. 75\n53. 76\n54. 76\n55. 76\n56. 76\n57. 76\n58. 76\n59. 76\n60. 76\n61. 76\n62. 77\n63. 77\n64. 77\n65. 77\n66. 77\n67. 77\n68. 77\n69. 78\n70. 78\n71. 78\n72. 78\n73. 78\n74. 78\n75. 79\n76. 79\n77. 79\n78. 79\n79. 79\n80. 79\n81. 80\n82. 80\n83. 80\n84. 80\n85. 80\n86. 81\n87. 81\n88. 81\n89. 81\n90. 81\n91. 81\n92. 81\n93. 81\n94. 81\n95. 81\n96. 81\n97. 82\n98. 82\n99. 82\n100. 82\n101. 82\n102. 82\n103. 82\n104. 82\n105. 82\n106. 83\n107. 83\n108. 83\n109. 83\n110. 84\n111. 84\n112. 84\n113. 84\n114. 84\n115. 85\n116. 85\n117. 85\n118. 85\n119. 85\n120. 86\n121. 86\n122. 86\n123. 86\n124. 86\n125. 86\n126. 86\n127. 87\n128. 87\n129. 87\n130. 87\n131. 87\n132. 88\n133. 88\n134. 88\n135. 89\n136. 89\n137. 90\n138. 90\n139. 90\n140. 91\n141. 91\n142. 92\n143. 92\n144. 92\n145. 92\n146. 92\n147. 93\n148. 93\n149. 93\n150. 94\n151. 94\n152. 96\n153. 97\n\n\n",
            "text/latex": "\\begin{enumerate*}\n\\item 56\n\\item 57\n\\item 57\n\\item 57\n\\item 58\n\\item 58\n\\item 59\n\\item 59\n\\item 61\n\\item 61\n\\item 61\n\\item 62\n\\item 62\n\\item 63\n\\item 64\n\\item 64\n\\item 65\n\\item 65\n\\item 66\n\\item 66\n\\item 66\n\\item 67\n\\item 67\n\\item 67\n\\item 67\n\\item 68\n\\item 68\n\\item 68\n\\item 68\n\\item 69\n\\item 69\n\\item 69\n\\item 70\n\\item 71\n\\item 71\n\\item 71\n\\item 72\n\\item 72\n\\item 72\n\\item 73\n\\item 73\n\\item 73\n\\item 73\n\\item 73\n\\item 74\n\\item 74\n\\item 74\n\\item 74\n\\item 75\n\\item 75\n\\item 75\n\\item 75\n\\item 76\n\\item 76\n\\item 76\n\\item 76\n\\item 76\n\\item 76\n\\item 76\n\\item 76\n\\item 76\n\\item 77\n\\item 77\n\\item 77\n\\item 77\n\\item 77\n\\item 77\n\\item 77\n\\item 78\n\\item 78\n\\item 78\n\\item 78\n\\item 78\n\\item 78\n\\item 79\n\\item 79\n\\item 79\n\\item 79\n\\item 79\n\\item 79\n\\item 80\n\\item 80\n\\item 80\n\\item 80\n\\item 80\n\\item 81\n\\item 81\n\\item 81\n\\item 81\n\\item 81\n\\item 81\n\\item 81\n\\item 81\n\\item 81\n\\item 81\n\\item 81\n\\item 82\n\\item 82\n\\item 82\n\\item 82\n\\item 82\n\\item 82\n\\item 82\n\\item 82\n\\item 82\n\\item 83\n\\item 83\n\\item 83\n\\item 83\n\\item 84\n\\item 84\n\\item 84\n\\item 84\n\\item 84\n\\item 85\n\\item 85\n\\item 85\n\\item 85\n\\item 85\n\\item 86\n\\item 86\n\\item 86\n\\item 86\n\\item 86\n\\item 86\n\\item 86\n\\item 87\n\\item 87\n\\item 87\n\\item 87\n\\item 87\n\\item 88\n\\item 88\n\\item 88\n\\item 89\n\\item 89\n\\item 90\n\\item 90\n\\item 90\n\\item 91\n\\item 91\n\\item 92\n\\item 92\n\\item 92\n\\item 92\n\\item 92\n\\item 93\n\\item 93\n\\item 93\n\\item 94\n\\item 94\n\\item 96\n\\item 97\n\\end{enumerate*}\n",
            "text/plain": [
              "  [1] 56 57 57 57 58 58 59 59 61 61 61 62 62 63 64 64 65 65 66 66 66 67 67 67 67\n",
              " [26] 68 68 68 68 69 69 69 70 71 71 71 72 72 72 73 73 73 73 73 74 74 74 74 75 75\n",
              " [51] 75 75 76 76 76 76 76 76 76 76 76 77 77 77 77 77 77 77 78 78 78 78 78 78 79\n",
              " [76] 79 79 79 79 79 80 80 80 80 80 81 81 81 81 81 81 81 81 81 81 81 82 82 82 82\n",
              "[101] 82 82 82 82 82 83 83 83 83 84 84 84 84 84 85 85 85 85 85 86 86 86 86 86 86\n",
              "[126] 86 87 87 87 87 87 88 88 88 89 89 90 90 90 91 91 92 92 92 92 92 93 93 93 94\n",
              "[151] 94 96 97"
            ]
          },
          "metadata": {}
        }
      ]
    },
    {
      "cell_type": "code",
      "source": [
        "# get statistical summary of Temp variable\n",
        "summary(airquality$Temp)"
      ],
      "metadata": {
        "colab": {
          "base_uri": "https://localhost:8080/",
          "height": 52
        },
        "id": "hb8UA_uDf_7b",
        "outputId": "e2e319cd-9b20-417d-a5e9-2ba06e4b3197"
      },
      "execution_count": null,
      "outputs": [
        {
          "output_type": "display_data",
          "data": {
            "text/plain": [
              "   Min. 1st Qu.  Median    Mean 3rd Qu.    Max. \n",
              "  56.00   72.00   79.00   77.88   85.00   97.00 "
            ]
          },
          "metadata": {}
        }
      ]
    },
    {
      "cell_type": "code",
      "source": [
        "# Create a data frame\n",
        "dataframe1 <- data.frame (\n",
        "  Name = c(\"Juan\", \"Kay\", \"Jay\", \"Ray\", \"Aley\"),\n",
        "  Age = c(22, 15, 19, 30, 23),\n",
        "  ID = c(101, 102, 103, 104, 105)\n",
        ")\n",
        "\n",
        "# return maximum value of Age column of dataframe1\n",
        "print(max(dataframe1$Age)) # 30\n",
        "\n",
        "# return minimum value of ID column of dataframe1\n",
        "print(min(dataframe1$ID)) # 101"
      ],
      "metadata": {
        "colab": {
          "base_uri": "https://localhost:8080/"
        },
        "id": "_Vhu21fygPYf",
        "outputId": "8447f5f7-3bb6-4001-d210-ce04f93e86c1"
      },
      "execution_count": null,
      "outputs": [
        {
          "output_type": "stream",
          "name": "stdout",
          "text": [
            "[1] 30\n",
            "[1] 101\n"
          ]
        }
      ]
    },
    {
      "cell_type": "code",
      "source": [
        "# vector of marks\n",
        "marks <- c(97, 78, 57,78, 97, 66, 87, 64, 87, 78)\n",
        "\n",
        "# define mode() function\n",
        "mode = function() {\n",
        "\n",
        "  # calculate mode of marks\n",
        "  return(names(sort(-table(marks)))[1])\n",
        "}\n",
        "\n",
        "# call mode() function\n",
        "mode()"
      ],
      "metadata": {
        "colab": {
          "base_uri": "https://localhost:8080/",
          "height": 34
        },
        "id": "FUuXtNHXgdz8",
        "outputId": "5df3376d-f362-487b-8554-f93214a04010"
      },
      "execution_count": null,
      "outputs": [
        {
          "output_type": "display_data",
          "data": {
            "text/html": [
              "'78'"
            ],
            "text/markdown": "'78'",
            "text/latex": "'78'",
            "text/plain": [
              "[1] \"78\""
            ]
          },
          "metadata": {}
        }
      ]
    },
    {
      "cell_type": "code",
      "source": [
        "# vector of marks\n",
        "marks <- c(97, 78, 57, 64, 87)\n",
        "\n",
        "# find middle number of marks\n",
        "result <- median(marks)\n",
        "\n",
        "print(result)"
      ],
      "metadata": {
        "colab": {
          "base_uri": "https://localhost:8080/"
        },
        "id": "SThLloDeghE6",
        "outputId": "7c4b9097-cbd3-4618-f0a6-30674b8adc61"
      },
      "execution_count": null,
      "outputs": [
        {
          "output_type": "stream",
          "name": "stdout",
          "text": [
            "[1] 78\n"
          ]
        }
      ]
    },
    {
      "cell_type": "code",
      "source": [
        "marks <- c(97, 78, 57, 64, 87)\n",
        "\n",
        "# calculate 70th percentile of marks\n",
        "result <- quantile(marks, 0.70)\n",
        "\n",
        "print(result)"
      ],
      "metadata": {
        "colab": {
          "base_uri": "https://localhost:8080/"
        },
        "id": "Tso0xwB6grbI",
        "outputId": "484e0669-b724-40e6-920c-9a16f0d3630a"
      },
      "execution_count": null,
      "outputs": [
        {
          "output_type": "stream",
          "name": "stdout",
          "text": [
            " 70% \n",
            "85.2 \n"
          ]
        }
      ]
    },
    {
      "cell_type": "code",
      "source": [
        "# Create a data frame\n",
        "dataframe1 <- data.frame (\n",
        "  Name = c(\"Juan\", \"Kay\", \"Jay\", \"Ray\", \"Aley\"),\n",
        "  Age = c(22, 15, 19, 30, 23),\n",
        "  ID = c(101, 102, 103, 104, 105)\n",
        ")\n",
        "\n",
        "# calculate 55th and 27th percentile of the Age column\n",
        "result <- quantile(dataframe1$Age, c(0.55, 0.27))\n",
        "\n",
        "print(result)"
      ],
      "metadata": {
        "id": "SZrwE5irgxhr",
        "outputId": "eff04c59-b5b2-4a9b-d7c3-54a08a5934ab",
        "colab": {
          "base_uri": "https://localhost:8080/"
        }
      },
      "execution_count": null,
      "outputs": [
        {
          "output_type": "stream",
          "name": "stdout",
          "text": [
            "  55%   27% \n",
            "22.20 19.24 \n"
          ]
        }
      ]
    }
  ]
}