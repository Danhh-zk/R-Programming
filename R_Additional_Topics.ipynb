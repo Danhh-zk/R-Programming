{
  "nbformat": 4,
  "nbformat_minor": 0,
  "metadata": {
    "colab": {
      "provenance": [],
      "authorship_tag": "ABX9TyO0VlMpOpOXaAdM1PtSDMTg",
      "include_colab_link": true
    },
    "kernelspec": {
      "name": "ir",
      "display_name": "R"
    },
    "language_info": {
      "name": "R"
    }
  },
  "cells": [
    {
      "cell_type": "markdown",
      "metadata": {
        "id": "view-in-github",
        "colab_type": "text"
      },
      "source": [
        "<a href=\"https://colab.research.google.com/github/Danhh-zk/R-Programming/blob/main/R_Additional_Topics.ipynb\" target=\"_parent\"><img src=\"https://colab.research.google.com/assets/colab-badge.svg\" alt=\"Open In Colab\"/></a>"
      ]
    },
    {
      "cell_type": "code",
      "execution_count": 1,
      "metadata": {
        "colab": {
          "base_uri": "https://localhost:8080/",
          "height": 191
        },
        "id": "905vi3_rhkuz",
        "outputId": "be76b5f8-9cff-4de2-8be0-69a149dc8912"
      },
      "outputs": [
        {
          "output_type": "stream",
          "name": "stderr",
          "text": [
            "\n",
            "Attaching package: ‘lubridate’\n",
            "\n",
            "\n",
            "The following objects are masked from ‘package:base’:\n",
            "\n",
            "    date, intersect, setdiff, union\n",
            "\n",
            "\n"
          ]
        },
        {
          "output_type": "display_data",
          "data": {
            "text/plain": [
              "[1] \"2024-01-08 00:52:08 UTC\""
            ]
          },
          "metadata": {}
        }
      ],
      "source": [
        "\n",
        "# access lubridate package\n",
        "library(lubridate)\n",
        "\n",
        "# get current date with time and timezone\n",
        "now()\n",
        "\n",
        "# Output: \"2022-07-11 04: 34: 23 UTC\""
      ]
    },
    {
      "cell_type": "code",
      "source": [
        "#  import lubridate package\n",
        "library(lubridate)\n",
        "\n",
        "dates <- c(\"2022-07-11\", \"2012-04-19\", \"2017-03-08\")\n",
        "\n",
        "# extract years from dates\n",
        "year(dates)\n",
        "\n",
        "# extract months from dates\n",
        "month(dates)\n",
        "\n",
        "# extract days from dates\n",
        "mday(dates)"
      ],
      "metadata": {
        "colab": {
          "base_uri": "https://localhost:8080/",
          "height": 69
        },
        "id": "cUxwEEVbjlTR",
        "outputId": "3400d180-4a17-49fa-8893-8e7c959de87d"
      },
      "execution_count": 2,
      "outputs": [
        {
          "output_type": "display_data",
          "data": {
            "text/html": [
              "<style>\n",
              ".list-inline {list-style: none; margin:0; padding: 0}\n",
              ".list-inline>li {display: inline-block}\n",
              ".list-inline>li:not(:last-child)::after {content: \"\\00b7\"; padding: 0 .5ex}\n",
              "</style>\n",
              "<ol class=list-inline><li>2022</li><li>2012</li><li>2017</li></ol>\n"
            ],
            "text/markdown": "1. 2022\n2. 2012\n3. 2017\n\n\n",
            "text/latex": "\\begin{enumerate*}\n\\item 2022\n\\item 2012\n\\item 2017\n\\end{enumerate*}\n",
            "text/plain": [
              "[1] 2022 2012 2017"
            ]
          },
          "metadata": {}
        },
        {
          "output_type": "display_data",
          "data": {
            "text/html": [
              "<style>\n",
              ".list-inline {list-style: none; margin:0; padding: 0}\n",
              ".list-inline>li {display: inline-block}\n",
              ".list-inline>li:not(:last-child)::after {content: \"\\00b7\"; padding: 0 .5ex}\n",
              "</style>\n",
              "<ol class=list-inline><li>7</li><li>4</li><li>3</li></ol>\n"
            ],
            "text/markdown": "1. 7\n2. 4\n3. 3\n\n\n",
            "text/latex": "\\begin{enumerate*}\n\\item 7\n\\item 4\n\\item 3\n\\end{enumerate*}\n",
            "text/plain": [
              "[1] 7 4 3"
            ]
          },
          "metadata": {}
        },
        {
          "output_type": "display_data",
          "data": {
            "text/html": [
              "<style>\n",
              ".list-inline {list-style: none; margin:0; padding: 0}\n",
              ".list-inline>li {display: inline-block}\n",
              ".list-inline>li:not(:last-child)::after {content: \"\\00b7\"; padding: 0 .5ex}\n",
              "</style>\n",
              "<ol class=list-inline><li>11</li><li>19</li><li>8</li></ol>\n"
            ],
            "text/markdown": "1. 11\n2. 19\n3. 8\n\n\n",
            "text/latex": "\\begin{enumerate*}\n\\item 11\n\\item 19\n\\item 8\n\\end{enumerate*}\n",
            "text/plain": [
              "[1] 11 19  8"
            ]
          },
          "metadata": {}
        }
      ]
    },
    {
      "cell_type": "code",
      "source": [
        "# create a list with required components\n",
        "student1 <- list(name = \"John\", age = 21, GPA = 3.5)\n",
        "\n",
        "# name the class appropriately\n",
        "class(student1) <- \"Student_Info\"\n",
        "\n",
        "# create and call an object\n",
        "student1"
      ],
      "metadata": {
        "colab": {
          "base_uri": "https://localhost:8080/",
          "height": 208
        },
        "id": "3GkvCHz9jxGf",
        "outputId": "5bd0816f-733e-4783-91db-cd244facdcca"
      },
      "execution_count": 5,
      "outputs": [
        {
          "output_type": "display_data",
          "data": {
            "text/plain": [
              "$name\n",
              "[1] \"John\"\n",
              "\n",
              "$age\n",
              "[1] 21\n",
              "\n",
              "$GPA\n",
              "[1] 3.5\n",
              "\n",
              "attr(,\"class\")\n",
              "[1] \"Student_Info\""
            ]
          },
          "metadata": {}
        }
      ]
    },
    {
      "cell_type": "code",
      "source": [
        "# Example usage of the functions\n",
        "\n",
        "# Combine values using c()\n",
        "combined_vector <- c(1, 2, 3)\n",
        "print(combined_vector)  # Output: 1 2 3\n",
        "\n",
        "# Create a sequence of numbers using seq()\n",
        "sequence <- seq(1, 10, 2)\n",
        "print(sequence)  # Output: 1 3 5 7 9\n",
        "\n",
        "# Create a repetitive sequence using rep()\n",
        "repetitive_sequence <- rep(1:3, times = 2)\n",
        "print(repetitive_sequence)  # Output: 1 2 3 1 2 3\n",
        "\n",
        "# Example usage of mutate() and summarise() from the dplyr package\n",
        "library(dplyr)\n",
        "\n",
        "# Create a sample data frame\n",
        "df <- data.frame(var1 = c(1, 2, 3),\n",
        "                 var2 = c(4, 5, 6))\n",
        "\n",
        "# Use mutate() to create a new variable\n",
        "df <- mutate(df, new_var = var1 + var2)\n",
        "print(df)  # Output:   var1 var2 new_var\n",
        "           #            1    4      5\n",
        "           #            2    5      7\n",
        "           #            3    6      9\n",
        "\n",
        "# Use summarise() to calculate the mean\n",
        "summary_df <- summarise(df, avg_var = mean(var1))\n",
        "print(summary_df)  # Output: avg_var\n",
        "                   #            2"
      ],
      "metadata": {
        "colab": {
          "base_uri": "https://localhost:8080/"
        },
        "id": "2q2TZX6vkKo3",
        "outputId": "97065a2d-cbf9-4d30-f982-1cae6dbf36c9"
      },
      "execution_count": 6,
      "outputs": [
        {
          "output_type": "stream",
          "name": "stdout",
          "text": [
            "[1] 1 2 3\n",
            "[1] 1 3 5 7 9\n",
            "[1] 1 2 3 1 2 3\n"
          ]
        },
        {
          "output_type": "stream",
          "name": "stderr",
          "text": [
            "\n",
            "Attaching package: ‘dplyr’\n",
            "\n",
            "\n",
            "The following objects are masked from ‘package:stats’:\n",
            "\n",
            "    filter, lag\n",
            "\n",
            "\n",
            "The following objects are masked from ‘package:base’:\n",
            "\n",
            "    intersect, setdiff, setequal, union\n",
            "\n",
            "\n"
          ]
        },
        {
          "output_type": "stream",
          "name": "stdout",
          "text": [
            "  var1 var2 new_var\n",
            "1    1    4       5\n",
            "2    2    5       7\n",
            "3    3    6       9\n",
            "  avg_var\n",
            "1       2\n"
          ]
        }
      ]
    },
    {
      "cell_type": "code",
      "source": [
        "# Example usage of converting a data frame to a tibble\n",
        "library(tibble)\n",
        "\n",
        "# Create a sample data frame\n",
        "dfOld <- data.frame(var1 = c(1, 2, 3),\n",
        "                    var2 = c(4, 5, 6))\n",
        "\n",
        "# Convert the data frame to a tibble\n",
        "dfNew <- as_tibble(dfOld)\n",
        "\n",
        "# Print the tibble\n",
        "print(dfNew)\n",
        "\n",
        "# Example usage of creating stat columns using summarise()\n",
        "library(dplyr)\n",
        "\n",
        "# Create a sample data frame\n",
        "df <- data.frame(var1 = c(1, 2, 3),\n",
        "                 var2 = c(4, 5, 6))\n",
        "\n",
        "# Use summarise() to create stat columns\n",
        "summary_df <- summarise(df, avg_var1 = mean(var1), sum_var2 = sum(var2))\n",
        "print(summary_df)  # Output: avg_var1 sum_var2\n",
        "                   #            2        15\n",
        "\n",
        "# Example usage of plotting a graph using ggplot()\n",
        "library(ggplot2)\n",
        "\n",
        "# Create a sample data frame\n",
        "df <- data.frame(x = c(1, 2, 3, 4),\n",
        "                 y = c(5, 6, 7, 8))\n",
        "\n",
        "# Plot a graph using ggplot()\n",
        "ggplot(df, aes(x, y)) +\n",
        "  geom_point()  # Example of plotting a scatter plot"
      ],
      "metadata": {
        "colab": {
          "base_uri": "https://localhost:8080/",
          "height": 576
        },
        "id": "VLax36f1mdGy",
        "outputId": "70df8ea2-2b5b-46dc-d8d1-878d95d8c025"
      },
      "execution_count": 8,
      "outputs": [
        {
          "output_type": "stream",
          "name": "stdout",
          "text": [
            "\u001b[90m# A tibble: 3 × 2\u001b[39m\n",
            "   var1  var2\n",
            "  \u001b[3m\u001b[90m<dbl>\u001b[39m\u001b[23m \u001b[3m\u001b[90m<dbl>\u001b[39m\u001b[23m\n",
            "\u001b[90m1\u001b[39m     1     4\n",
            "\u001b[90m2\u001b[39m     2     5\n",
            "\u001b[90m3\u001b[39m     3     6\n",
            "  avg_var1 sum_var2\n",
            "1        2       15\n"
          ]
        },
        {
          "output_type": "display_data",
          "data": {
            "text/plain": [
              "plot without title"
            ],
            "image/png": "[encoded data removed]"
          },
          "metadata": {
            "image/png": {
              "width": 420,
              "height": 420
            }
          }
        }
      ]
    },
    {
      "cell_type": "code",
      "source": [
        "# Accessing the `mean()` function from the `base` package\n",
        "result <- base::mean(c(1, 2, 3))\n",
        "print(result)  # Output: 2"
      ],
      "metadata": {
        "colab": {
          "base_uri": "https://localhost:8080/"
        },
        "id": "KSaHA-vAnYc9",
        "outputId": "614e3495-affc-4621-bc69-2bb05d087c92"
      },
      "execution_count": 9,
      "outputs": [
        {
          "output_type": "stream",
          "name": "stdout",
          "text": [
            "[1] 2\n"
          ]
        }
      ]
    },
    {
      "cell_type": "code",
      "source": [
        "# Chaining together functions using the pipe operator\n",
        "library(dplyr)\n",
        "\n",
        "# Create a sample data frame\n",
        "df <- data.frame(x = c(1, 2, 3, 4),\n",
        "                 y = c(5, 6, 7, 8))\n",
        "\n",
        "# Calculate the mean of column 'y' and square the result\n",
        "result <- df %>%\n",
        "  summarise(mean_y = mean(y)) %>%\n",
        "  mutate(square_mean = mean_y^2)\n",
        "\n",
        "print(result)  # Output: mean_y square_mean\n",
        "               #      6        36"
      ],
      "metadata": {
        "colab": {
          "base_uri": "https://localhost:8080/"
        },
        "id": "dIyKJZKanrms",
        "outputId": "8f98d5d5-dccf-408b-d970-cb464f4651e1"
      },
      "execution_count": 10,
      "outputs": [
        {
          "output_type": "stream",
          "name": "stdout",
          "text": [
            "  mean_y square_mean\n",
            "1    6.5       42.25\n"
          ]
        }
      ]
    }
  ]
}